{
  "nbformat": 4,
  "nbformat_minor": 0,
  "metadata": {
    "colab": {
      "provenance": [],
      "include_colab_link": true
    },
    "kernelspec": {
      "name": "python3",
      "display_name": "Python 3"
    },
    "language_info": {
      "name": "python"
    }
  },
  "cells": [
    {
      "cell_type": "markdown",
      "metadata": {
        "id": "view-in-github",
        "colab_type": "text"
      },
      "source": [
        "<a href=\"https://colab.research.google.com/github/horhebush/CCINCOML_EXERCISES_COM23P/blob/main/Exercise%205.ipynb\" target=\"_parent\"><img src=\"https://colab.research.google.com/assets/colab-badge.svg\" alt=\"Open In Colab\"/></a>"
      ]
    },
    {
      "cell_type": "markdown",
      "source": [
        "# Exercise 5"
      ],
      "metadata": {
        "id": "2YKNSy_M9wSB"
      }
    },
    {
      "cell_type": "markdown",
      "source": [
        "1. Compute the average\n",
        "\n",
        "My electricity bills for the last three months have been 23, 32 and 64.\n",
        "\n",
        "- What is the average monthly electricity bill over the three month period?\n",
        "\n",
        "- Write an expression to calculate the mean, and use print() to view the result."
      ],
      "metadata": {
        "id": "AW0H1ylt3H9g"
      }
    },
    {
      "cell_type": "code",
      "execution_count": 9,
      "metadata": {
        "id": "3a9CllzZ28_6",
        "colab": {
          "base_uri": "https://localhost:8080/"
        },
        "outputId": "23c3e7d8-f6bb-44a6-a817-700fb4eb268b"
      },
      "outputs": [
        {
          "output_type": "stream",
          "name": "stdout",
          "text": [
            "39.666666666666664\n"
          ]
        }
      ],
      "source": [
        "first_month = 23\n",
        "second_month = 32\n",
        "third_month = 64\n",
        "\n",
        "total_months = 3\n",
        "\n",
        "average = (first_month + second_month + third_month) / total_months\n",
        "\n",
        "print(average)"
      ]
    },
    {
      "cell_type": "markdown",
      "source": [
        "2. Create a condition\n",
        "\n",
        "The code below calculates the population densities of Rio de Janeiro and San Francisco.\n",
        "\n",
        "Write a code to compare these densities. Is the population of San Francisco more dense than that of Rio de Janeiro? Print True if it is and False if not."
      ],
      "metadata": {
        "id": "lDgi4WMA3UDM"
      }
    },
    {
      "cell_type": "code",
      "source": [
        "sf_population, sf_area = 864816, 231.89\n",
        "rio_population, rio_area = 6453682, 486.5\n",
        "\n",
        "san_francisco_pop_density = sf_population/sf_area\n",
        "rio_de_janeiro_pop_density = rio_population/rio_area\n",
        "\n",
        "more_dense = san_francisco_pop_density > rio_de_janeiro_pop_density\n",
        "print(more_dense)"
      ],
      "metadata": {
        "id": "-K4Umghk34X3",
        "colab": {
          "base_uri": "https://localhost:8080/"
        },
        "outputId": "6b5a5a28-0168-41ab-e654-ac8e0ca9a88c"
      },
      "execution_count": 11,
      "outputs": [
        {
          "output_type": "stream",
          "name": "stdout",
          "text": [
            "False\n"
          ]
        }
      ]
    },
    {
      "cell_type": "markdown",
      "source": [
        "3. Fix the error\n",
        "\n",
        "The line of code below will cause a SyntaxError, thanks to the misuse of quotation marks.\n",
        "\n",
        "- First run it with Test Run to view the error message.\n",
        "- Then resolve the problem so that the quote (from Henry Ford(opens in a new tab)) is correctly assigned to the variable ford_quote."
      ],
      "metadata": {
        "id": "2sgJy-_C4N8b"
      }
    },
    {
      "cell_type": "code",
      "source": [
        "# TODO: Fix this string!\n",
        "ford_quote = 'Whether you think you can, or you think you can\\'t--you\\'re right.'\n",
        "print(ford_quote)"
      ],
      "metadata": {
        "id": "xARijZmm4bp2",
        "colab": {
          "base_uri": "https://localhost:8080/"
        },
        "outputId": "ed648e2b-e7b0-4714-e568-5c7facb78575"
      },
      "execution_count": 12,
      "outputs": [
        {
          "output_type": "stream",
          "name": "stdout",
          "text": [
            "Whether you think you can, or you think you can't--you're right.\n"
          ]
        }
      ]
    },
    {
      "cell_type": "markdown",
      "source": [
        "4. Write a server log message\n",
        "\n",
        "You’ll be provided with example data for a user, the time of their visit and the site they accessed. You should use the variables provided and the techniques you’ve learned to print a log message like this one (with the username, url, and timestamp replaced with values from the appropriate variables):"
      ],
      "metadata": {
        "id": "wZBoOGlh4zf9"
      }
    },
    {
      "cell_type": "code",
      "source": [
        "username = \"Kinari\"\n",
        "timestamp = \"04:50\"\n",
        "url = \"http://petshop.com/pets/mammals/cats\"\n",
        "\n",
        "# TODO: print a log message using the variables above.\n",
        "# The message should have the same format as this one:\n",
        "# \"Yogesh accessed the site http://petshop.com/pets/reptiles/pythons at 16:20.\"\n",
        "\n",
        "print(username + ' accessed the site ' + url + ' at ' + timestamp)"
      ],
      "metadata": {
        "id": "0xoFuFFw48AX",
        "colab": {
          "base_uri": "https://localhost:8080/"
        },
        "outputId": "222d9a00-3e74-42a0-8339-382836924529"
      },
      "execution_count": 14,
      "outputs": [
        {
          "output_type": "stream",
          "name": "stdout",
          "text": [
            "Kinari accessed the site http://petshop.com/pets/mammals/cats at 04:50\n"
          ]
        }
      ]
    },
    {
      "cell_type": "markdown",
      "source": [
        "5. Use string concatenation and the `len()` function to find the length of a certain movie star's actual full name. Store that length in the name_length variable. Don't forget that there are spaces in between the different parts of a name!"
      ],
      "metadata": {
        "id": "I0khhJta5eal"
      }
    },
    {
      "cell_type": "code",
      "source": [
        "given_name = \"William\"\n",
        "middle_names = \"Bradley\"\n",
        "family_name = \"Pitt\"\n",
        "\n",
        "name_length = given_name + ' ' + middle_names + ' ' + family_name\n",
        "\n",
        "print(name_length)\n",
        "print(len(name_length))"
      ],
      "metadata": {
        "id": "zhNS8sDo5faD",
        "colab": {
          "base_uri": "https://localhost:8080/"
        },
        "outputId": "138cd2a4-24f7-4d57-e575-123438fb153a"
      },
      "execution_count": 17,
      "outputs": [
        {
          "output_type": "stream",
          "name": "stdout",
          "text": [
            "William Bradley Pitt\n",
            "20\n"
          ]
        }
      ]
    },
    {
      "cell_type": "markdown",
      "source": [],
      "metadata": {
        "id": "ZAj3Oj1YCtqX"
      }
    },
    {
      "cell_type": "markdown",
      "source": [
        "6. Type Conversion\n",
        "\n",
        "- You will need to change the types of the input and output data in order to get the result you want.\n",
        "\n",
        "- Calculate and print the total sales for the week from the data provided.\n",
        "\n",
        "- Print out a string of the form \"This week's total sales: xxx\", where xxx will be the actual total of all the numbers. You’ll need to change the type of the input data in order to calculate that total."
      ],
      "metadata": {
        "id": "8Tkd7nsi5v_5"
      }
    },
    {
      "cell_type": "code",
      "source": [
        "mon_sales = \"121\"\n",
        "tues_sales = \"105\"\n",
        "wed_sales = \"110\"\n",
        "thurs_sales = \"98\"\n",
        "fri_sales = \"95\"\n",
        "\n",
        "total_sales = int(mon_sales) + int(tues_sales) + int(wed_sales) + int(thurs_sales) + int(fri_sales)\n",
        "\n",
        "print('This week\\'s total sales: ' + str(total_sales))"
      ],
      "metadata": {
        "id": "gNE_Md8954Dx",
        "colab": {
          "base_uri": "https://localhost:8080/"
        },
        "outputId": "bbf56364-73e5-45a8-81e3-f9c8bdfc4493"
      },
      "execution_count": 41,
      "outputs": [
        {
          "output_type": "stream",
          "name": "stdout",
          "text": [
            "This week's total sales: 529\n"
          ]
        }
      ]
    },
    {
      "cell_type": "markdown",
      "source": [
        "7. String methods\n",
        "\n",
        "Below, we have a string variable that contains the first verse of the poem, If by Rudyard Kipling(opens in a new tab)"
      ],
      "metadata": {
        "id": "6WXIVMFX6eNA"
      }
    },
    {
      "cell_type": "code",
      "source": [
        "verse = \"If you can keep your head when all about you\\n  Are losing theirs and blaming it on you,\\nIf you can trust yourself when all men doubt you,\\n  But make allowance for their doubting too;\\nIf you can wait and not be tired by waiting,\\n  Or being lied about, don’t deal in lies,\\nOr being hated, don’t give way to hating,\\n  And yet don’t look too good, nor talk too wise:\"\n",
        "print(verse)"
      ],
      "metadata": {
        "id": "4Kp9Vbxr6epE"
      },
      "execution_count": null,
      "outputs": []
    },
    {
      "cell_type": "markdown",
      "source": [
        "What is the length of the string variable verse?"
      ],
      "metadata": {
        "id": "HX5plsix7Ntd"
      }
    },
    {
      "cell_type": "code",
      "source": [
        "print(len(verse))"
      ],
      "metadata": {
        "id": "uMA2Y5rG7OFR",
        "colab": {
          "base_uri": "https://localhost:8080/"
        },
        "outputId": "29434a7f-3dcf-4d8b-919e-69ada315eb69"
      },
      "execution_count": 28,
      "outputs": [
        {
          "output_type": "stream",
          "name": "stdout",
          "text": [
            "362\n"
          ]
        }
      ]
    },
    {
      "cell_type": "markdown",
      "source": [
        "What is the count of occurrences of the word 'you' in the verse?"
      ],
      "metadata": {
        "id": "XvEqzG-r7GMG"
      }
    },
    {
      "cell_type": "code",
      "source": [
        "print(verse.count('you'))"
      ],
      "metadata": {
        "id": "SWeEUevY7Fui",
        "colab": {
          "base_uri": "https://localhost:8080/"
        },
        "outputId": "27646653-7ee2-4685-c1a5-da1c58cfe76f"
      },
      "execution_count": 27,
      "outputs": [
        {
          "output_type": "stream",
          "name": "stdout",
          "text": [
            "8\n"
          ]
        }
      ]
    },
    {
      "cell_type": "markdown",
      "source": [
        "What is the index of the first occurence of the word 'head' in verse?"
      ],
      "metadata": {
        "id": "SMTbN5vQFai6"
      }
    },
    {
      "cell_type": "code",
      "source": [
        "print(verse.index('head'))"
      ],
      "metadata": {
        "id": "foPeKDud7SzQ",
        "colab": {
          "base_uri": "https://localhost:8080/"
        },
        "outputId": "d45b56a9-8681-4da8-c11b-4ce7f96a6ecc"
      },
      "execution_count": 26,
      "outputs": [
        {
          "output_type": "stream",
          "name": "stdout",
          "text": [
            "21\n"
          ]
        }
      ]
    },
    {
      "cell_type": "markdown",
      "source": [
        "8. Which Prize?\n",
        "\n",
        "- Write an if statement that lets a competitor know which of these prizes they won based on the number of points they scored, which is stored in the integer variable points.\n",
        "\n",
        "|   Points| Prize  |   \n",
        "|---|---|\n",
        "|  1 - 50  |  Candy |\n",
        "|  51 - 150 |  Chocolate |  \n",
        "|  151 - 200 | Sports Car  |   \n",
        "|  201 - 250 | Mansion  |  \n",
        "\n",
        "\n",
        " - In your if statement, assign the result variable to a string holding the appropriate message based on the value of points. If they've won a prize, the message should state \"Congratulations! You won a [prize name]!\" with the prize name. If there's no prize, the message should state \"Oh dear, no prize this time.\""
      ],
      "metadata": {
        "id": "b1uSYvN374nv"
      }
    },
    {
      "cell_type": "code",
      "source": [
        "points = int(input(\"How many points did you earn? \"))\n",
        "\n",
        "prize_one = \"Candy\"\n",
        "prize_two = \"Chocolate\"\n",
        "prize_three = \"Sports Car\"\n",
        "prize_four = \"Mansion\"\n",
        "\n",
        "if points >= 1 and points <= 50:\n",
        "  print('Congratulations! You won a ' + prize_one + '!')\n",
        "elif points >= 51 and points <= 150:\n",
        "  print('Congratulations! You won a ' + prize_two + '!')\n",
        "elif points >= 151 and points <= 200:\n",
        "  print('Congratulations! You won a ' + prize_three + '!')\n",
        "elif points >= 201 and points <= 250:\n",
        "  print('Congratulations! You won a ' + prize_four + '!')\n",
        "else:\n",
        "  print('Oh dear, no prize this time.')"
      ],
      "metadata": {
        "id": "rTDH4N1x7436",
        "colab": {
          "base_uri": "https://localhost:8080/"
        },
        "outputId": "1fdc7448-37bf-4a45-83c0-98110740d078"
      },
      "execution_count": 59,
      "outputs": [
        {
          "output_type": "stream",
          "name": "stdout",
          "text": [
            "How many points did you earn? 201\n",
            "Congratulations! You won a prize Mansion!\n"
          ]
        }
      ]
    },
    {
      "cell_type": "markdown",
      "source": [
        "9. Guess My Number\n",
        "\n",
        "- You decide you want to play a game where you are hiding a number from someone. Store this number in a variable called 'answer'. Another user provides a number called 'guess'. By comparing guess to answer, you inform the user if their guess is too high or too low.\n",
        "\n",
        "- Fill in the conditionals below to inform the user about how their guess compares to the answer."
      ],
      "metadata": {
        "id": "XdxTkPje9EUY"
      }
    },
    {
      "cell_type": "code",
      "source": [
        "answer = 17\n",
        "guess = int(input(\"Guess My Number: \"))\n",
        "\n",
        "if guess == answer:\n",
        "  print('Congratulations you\\'ve guessed the number!')\n",
        "elif guess < answer:\n",
        "  print('Too low. Try Again!')\n",
        "else:\n",
        "  print('Too high. Try Again!')"
      ],
      "metadata": {
        "id": "tcsIibtJ9Eic",
        "colab": {
          "base_uri": "https://localhost:8080/"
        },
        "outputId": "fbb9f4e1-0ecc-4baf-f401-f7d4d156b76e"
      },
      "execution_count": 64,
      "outputs": [
        {
          "output_type": "stream",
          "name": "stdout",
          "text": [
            "Guess My Number: 17\n",
            "Congratulations you've guessed the number!\n"
          ]
        }
      ]
    }
  ]
}